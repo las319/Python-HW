{
 "cells": [
  {
   "cell_type": "markdown",
   "metadata": {},
   "source": [
    "**Pythagorean Theorem**"
   ]
  },
  {
   "cell_type": "code",
   "execution_count": 36,
   "metadata": {
    "scrolled": true
   },
   "outputs": [
    {
     "name": "stdout",
     "output_type": "stream",
     "text": [
      "What is the length of side a?10\n",
      "What is the length of side b?14\n",
      "side A: 10\n",
      "side B: 14\n"
     ]
    }
   ],
   "source": [
    "#ask user for length of side a and side b\n",
    "user_input1 = input(\"What is the length of side a?\")\n",
    "user_input2 = input(\"What is the length of side b?\")\n",
    "\n",
    "#see the values\n",
    "print(\"side A: \" + str(user_input1))\n",
    "print(\"side B: \"+ str(user_input2))\n"
   ]
  },
  {
   "cell_type": "code",
   "execution_count": 37,
   "metadata": {},
   "outputs": [
    {
     "name": "stdout",
     "output_type": "stream",
     "text": [
      "10.0\n",
      "14.0\n"
     ]
    }
   ],
   "source": [
    "#convert the user inputs from string to numerical\n",
    "\n",
    "side_A = float(user_input1)\n",
    "side_B = float(user_input2)\n",
    "\n",
    "#see the values\n",
    "print(side_A)\n",
    "print(side_B)"
   ]
  },
  {
   "cell_type": "code",
   "execution_count": 38,
   "metadata": {},
   "outputs": [
    {
     "name": "stdout",
     "output_type": "stream",
     "text": [
      "side A squared: 100.0\n",
      "side B squared: 196.0\n"
     ]
    }
   ],
   "source": [
    "#solve for c, the hypotenuse, such that c^2 = a^2 + b^2\n",
    "#square side a and side b\n",
    "\n",
    "squared_A = side_A**2\n",
    "squared_B = side_B**2\n",
    "\n",
    "#see the values\n",
    "print(\"side A squared: \" + str(squared_A))\n",
    "print(\"side B squared: \" + str(squared_B))\n"
   ]
  },
  {
   "cell_type": "code",
   "execution_count": 43,
   "metadata": {},
   "outputs": [
    {
     "name": "stdout",
     "output_type": "stream",
     "text": [
      "side C: 17.2\n"
     ]
    }
   ],
   "source": [
    "#solve for C\n",
    "hypotenuse_C = (squared_A + squared_B)**0.5\n",
    "\n",
    "#round hypotenuse to 2 decimals\n",
    "rounded_C = round(hypotenuse_C, 2)\n",
    "\n",
    "#see the answer\n",
    "print(\"side C: \" + str(rounded_C))\n"
   ]
  },
  {
   "cell_type": "code",
   "execution_count": 44,
   "metadata": {},
   "outputs": [
    {
     "name": "stdout",
     "output_type": "stream",
     "text": [
      "Given that side a equals 10 and side b equals 14 we can conclude that the hypotenuse is 17.2\n"
     ]
    }
   ],
   "source": [
    "#print the answer\n",
    "\n",
    "print(\"Given that side a equals \" + str(user_input1) + \" and side b equals \" + str(user_input2) + \" we can conclude that the hypotenuse is \" + str(rounded_C))"
   ]
  },
  {
   "cell_type": "markdown",
   "metadata": {},
   "source": [
    "**END**"
   ]
  },
  {
   "cell_type": "markdown",
   "metadata": {},
   "source": [
    "**Area and Perimeter of a Circle**"
   ]
  },
  {
   "cell_type": "code",
   "execution_count": 29,
   "metadata": {},
   "outputs": [
    {
     "name": "stdout",
     "output_type": "stream",
     "text": [
      "What is the radius of the circle?:10\n",
      "The radius of the circle is 10\n"
     ]
    }
   ],
   "source": [
    "#need to import math to solve\n",
    "import math\n",
    "\n",
    "#ask user for radius length\n",
    "user_input = input(\"What is the radius of the circle?:\")\n",
    "\n",
    "#see the value given\n",
    "print(\"The radius of the circle is \" + str(user_input))\n"
   ]
  },
  {
   "cell_type": "code",
   "execution_count": 30,
   "metadata": {},
   "outputs": [],
   "source": [
    "#convert the radius from string to float value\n",
    "r = float(user_input)\n"
   ]
  },
  {
   "cell_type": "code",
   "execution_count": 31,
   "metadata": {
    "scrolled": true
   },
   "outputs": [
    {
     "name": "stdout",
     "output_type": "stream",
     "text": [
      "the perimeter is 62.83185307179586\n"
     ]
    }
   ],
   "source": [
    "#calculate the perimeter\n",
    "perimeter = (2*math.pi*r)\n",
    "\n",
    "#see perimeter answer\n",
    "print(\"the perimeter is \" + str(perimeter))"
   ]
  },
  {
   "cell_type": "code",
   "execution_count": 32,
   "metadata": {},
   "outputs": [
    {
     "name": "stdout",
     "output_type": "stream",
     "text": [
      "the area is 314.1592653589793\n"
     ]
    }
   ],
   "source": [
    "#calculate the area\n",
    "area = (math.pi*r*r)\n",
    "\n",
    "#see area answer\n",
    "print(\"the area is \" + str(area))"
   ]
  },
  {
   "cell_type": "code",
   "execution_count": 33,
   "metadata": {},
   "outputs": [
    {
     "name": "stdout",
     "output_type": "stream",
     "text": [
      "62.8\n",
      "314.2\n"
     ]
    }
   ],
   "source": [
    "#round the area and perimeter to 1 decimal place\n",
    "\n",
    "rounded_peri = round(perimeter,1)\n",
    "rounded_area = round(area,1)\n",
    "\n",
    "#see values\n",
    "print(rounded_peri)\n",
    "print(rounded_area)"
   ]
  },
  {
   "cell_type": "code",
   "execution_count": 35,
   "metadata": {},
   "outputs": [
    {
     "name": "stdout",
     "output_type": "stream",
     "text": [
      "The circle with a radius of 10.0 has an area of 314.2 and a perimeter of 62.8\n"
     ]
    }
   ],
   "source": [
    "#print the answer\n",
    "print(\"The circle with a radius of \" + str(r) + \" has an area of \" + str(rounded_area) + \" and a perimeter of \" + str(rounded_peri))"
   ]
  },
  {
   "cell_type": "markdown",
   "metadata": {},
   "source": [
    "**END**"
   ]
  },
  {
   "cell_type": "markdown",
   "metadata": {},
   "source": [
    "**Decomposing Money**"
   ]
  },
  {
   "cell_type": "code",
   "execution_count": 60,
   "metadata": {},
   "outputs": [
    {
     "name": "stdout",
     "output_type": "stream",
     "text": [
      "Enter a number from 1 to 9999:7891\n",
      "You chose 7891 dollars.\n"
     ]
    }
   ],
   "source": [
    "#ask the user to input an amount of money (dollars) from $1 to $9999\n",
    "user_input = input(\"Enter a number from 1 to 9999:\")\n",
    "\n",
    "#see the value given\n",
    "print(\"You chose \" + str(user_input) + \" dollars.\")\n"
   ]
  },
  {
   "cell_type": "code",
   "execution_count": 61,
   "metadata": {},
   "outputs": [],
   "source": [
    "#convert str to float\n",
    "amount = int(user_input)"
   ]
  },
  {
   "cell_type": "code",
   "execution_count": 63,
   "metadata": {},
   "outputs": [
    {
     "name": "stdout",
     "output_type": "stream",
     "text": [
      "7 grand\n",
      "8 Benjamins\n",
      "9 sawbucks\n",
      "1 bucks\n"
     ]
    }
   ],
   "source": [
    "#calculate grands within the user input number\n",
    "grands = int(amount/1000)\n",
    "print(str(grands) + \" grand\")\n",
    "\n",
    "\n",
    "#Get remainder left from grands\n",
    "G_remainder = int(amount%1000)\n",
    "\n",
    "#take remainder and use to get benjamins\n",
    "Benjamins = int(G_remainder/100)\n",
    "print(str(Benjamins) + \" Benjamins\")\n",
    "\n",
    "#Get remainder left from benjamins\n",
    "B_remainder = int(G_remainder%100)\n",
    "\n",
    "#take remainder and use to get sawbucks\n",
    "sawbucks = int(B_remainder/10)\n",
    "print(str(sawbucks) + \" sawbucks\")\n",
    "\n",
    "#Get remainder left from sawbucks\n",
    "S_remainder = int(B_remainder%10)\n",
    "\n",
    "#Get remainder and use to get bucks\n",
    "bucks = int(S_remainder/1)\n",
    "print(str(bucks) + \" bucks\")\n",
    "\n",
    "\n"
   ]
  },
  {
   "cell_type": "markdown",
   "metadata": {},
   "source": [
    "**END**"
   ]
  }
 ],
 "metadata": {
  "kernelspec": {
   "display_name": "Python 3",
   "language": "python",
   "name": "python3"
  },
  "language_info": {
   "codemirror_mode": {
    "name": "ipython",
    "version": 3
   },
   "file_extension": ".py",
   "mimetype": "text/x-python",
   "name": "python",
   "nbconvert_exporter": "python",
   "pygments_lexer": "ipython3",
   "version": "3.8.5"
  }
 },
 "nbformat": 4,
 "nbformat_minor": 4
}
