{
 "cells": [
  {
   "cell_type": "code",
   "execution_count": 4,
   "metadata": {},
   "outputs": [],
   "source": [
    "#Import necessary modules\n",
    "import pandas as pd\n",
    "import numpy as np\n",
    "\n",
    "#import module to allow for making graphs \n",
    "%matplotlib inline\n",
    "import matplotlib.pyplot as plt"
   ]
  },
  {
   "cell_type": "code",
   "execution_count": 3,
   "metadata": {},
   "outputs": [],
   "source": [
    "#open the csv file\n",
    "df = pd.read_csv(\"USRenalDataSet.csv\")"
   ]
  },
  {
   "cell_type": "markdown",
   "metadata": {},
   "source": [
    "**DATA EXPLORATION**"
   ]
  },
  {
   "cell_type": "code",
   "execution_count": 7,
   "metadata": {},
   "outputs": [
    {
     "data": {
      "text/html": [
       "<div>\n",
       "<style scoped>\n",
       "    .dataframe tbody tr th:only-of-type {\n",
       "        vertical-align: middle;\n",
       "    }\n",
       "\n",
       "    .dataframe tbody tr th {\n",
       "        vertical-align: top;\n",
       "    }\n",
       "\n",
       "    .dataframe thead th {\n",
       "        text-align: right;\n",
       "    }\n",
       "</style>\n",
       "<table border=\"1\" class=\"dataframe\">\n",
       "  <thead>\n",
       "    <tr style=\"text-align: right;\">\n",
       "      <th></th>\n",
       "      <th>ID</th>\n",
       "      <th>tdeath</th>\n",
       "      <th>death</th>\n",
       "      <th>age</th>\n",
       "      <th>female</th>\n",
       "      <th>racegrp</th>\n",
       "      <th>smokegrp</th>\n",
       "      <th>hist.cvd</th>\n",
       "      <th>diabetes</th>\n",
       "      <th>esrdtime</th>\n",
       "      <th>undnour</th>\n",
       "      <th>bmi</th>\n",
       "      <th>albumin</th>\n",
       "      <th>cholest</th>\n",
       "      <th>trigly</th>\n",
       "    </tr>\n",
       "  </thead>\n",
       "  <tbody>\n",
       "    <tr>\n",
       "      <th>0</th>\n",
       "      <td>472</td>\n",
       "      <td>427</td>\n",
       "      <td>0.0</td>\n",
       "      <td>69.0</td>\n",
       "      <td>1.0</td>\n",
       "      <td>1</td>\n",
       "      <td>1</td>\n",
       "      <td>1</td>\n",
       "      <td>1</td>\n",
       "      <td>2.841096</td>\n",
       "      <td>0</td>\n",
       "      <td>28.19476764</td>\n",
       "      <td>3.6</td>\n",
       "      <td>215</td>\n",
       "      <td>162</td>\n",
       "    </tr>\n",
       "    <tr>\n",
       "      <th>1</th>\n",
       "      <td>713</td>\n",
       "      <td>427</td>\n",
       "      <td>0.0</td>\n",
       "      <td>41.0</td>\n",
       "      <td>0.0</td>\n",
       "      <td>1</td>\n",
       "      <td>2</td>\n",
       "      <td>0</td>\n",
       "      <td>0</td>\n",
       "      <td>2.213699</td>\n",
       "      <td>0</td>\n",
       "      <td>20.98765432</td>\n",
       "      <td>4.1</td>\n",
       "      <td>102</td>\n",
       "      <td>195</td>\n",
       "    </tr>\n",
       "    <tr>\n",
       "      <th>2</th>\n",
       "      <td>806</td>\n",
       "      <td>427</td>\n",
       "      <td>0.0</td>\n",
       "      <td>76.0</td>\n",
       "      <td>1.0</td>\n",
       "      <td>2</td>\n",
       "      <td>2</td>\n",
       "      <td>1</td>\n",
       "      <td>1</td>\n",
       "      <td>0.904110</td>\n",
       "      <td>1</td>\n",
       "      <td>22.82171732</td>\n",
       "      <td>3.7</td>\n",
       "      <td>196</td>\n",
       "      <td>118</td>\n",
       "    </tr>\n",
       "    <tr>\n",
       "      <th>3</th>\n",
       "      <td>1172</td>\n",
       "      <td>427</td>\n",
       "      <td>0.0</td>\n",
       "      <td>71.0</td>\n",
       "      <td>0.0</td>\n",
       "      <td>1</td>\n",
       "      <td>1</td>\n",
       "      <td>1</td>\n",
       "      <td>0</td>\n",
       "      <td>14.926027</td>\n",
       "      <td></td>\n",
       "      <td>18.9925565</td>\n",
       "      <td>3.6</td>\n",
       "      <td>125</td>\n",
       "      <td></td>\n",
       "    </tr>\n",
       "    <tr>\n",
       "      <th>4</th>\n",
       "      <td>1181</td>\n",
       "      <td>169</td>\n",
       "      <td>1.0</td>\n",
       "      <td>62.0</td>\n",
       "      <td>0.0</td>\n",
       "      <td>1</td>\n",
       "      <td>3</td>\n",
       "      <td>0</td>\n",
       "      <td>1</td>\n",
       "      <td>2.865753</td>\n",
       "      <td>0</td>\n",
       "      <td>24.62443311</td>\n",
       "      <td>4.0</td>\n",
       "      <td>246</td>\n",
       "      <td>201</td>\n",
       "    </tr>\n",
       "    <tr>\n",
       "      <th>5</th>\n",
       "      <td>1288</td>\n",
       "      <td>427</td>\n",
       "      <td>0.0</td>\n",
       "      <td>62.0</td>\n",
       "      <td>0.0</td>\n",
       "      <td>2</td>\n",
       "      <td>2</td>\n",
       "      <td>1</td>\n",
       "      <td>0</td>\n",
       "      <td>1.575342</td>\n",
       "      <td>0</td>\n",
       "      <td>30.66394856</td>\n",
       "      <td>4.4</td>\n",
       "      <td>162</td>\n",
       "      <td>277</td>\n",
       "    </tr>\n",
       "    <tr>\n",
       "      <th>6</th>\n",
       "      <td>1400</td>\n",
       "      <td>427</td>\n",
       "      <td>0.0</td>\n",
       "      <td>57.0</td>\n",
       "      <td>0.0</td>\n",
       "      <td>3</td>\n",
       "      <td>1</td>\n",
       "      <td></td>\n",
       "      <td>1</td>\n",
       "      <td>6.810959</td>\n",
       "      <td>0</td>\n",
       "      <td>21.19338239</td>\n",
       "      <td>3.9</td>\n",
       "      <td>103</td>\n",
       "      <td>73</td>\n",
       "    </tr>\n",
       "    <tr>\n",
       "      <th>7</th>\n",
       "      <td>1410</td>\n",
       "      <td>427</td>\n",
       "      <td>0.0</td>\n",
       "      <td>73.0</td>\n",
       "      <td>1.0</td>\n",
       "      <td>1</td>\n",
       "      <td>1</td>\n",
       "      <td>1</td>\n",
       "      <td>0</td>\n",
       "      <td>14.597260</td>\n",
       "      <td>1</td>\n",
       "      <td>16.23000282</td>\n",
       "      <td>3.0</td>\n",
       "      <td>145</td>\n",
       "      <td>116</td>\n",
       "    </tr>\n",
       "    <tr>\n",
       "      <th>8</th>\n",
       "      <td>1524</td>\n",
       "      <td>419</td>\n",
       "      <td>1.0</td>\n",
       "      <td>70.0</td>\n",
       "      <td>0.0</td>\n",
       "      <td>1</td>\n",
       "      <td>NaN</td>\n",
       "      <td>0</td>\n",
       "      <td>0</td>\n",
       "      <td>4.419178</td>\n",
       "      <td>0</td>\n",
       "      <td>26.01532242</td>\n",
       "      <td>3.8</td>\n",
       "      <td>234</td>\n",
       "      <td>168</td>\n",
       "    </tr>\n",
       "    <tr>\n",
       "      <th>9</th>\n",
       "      <td>1655</td>\n",
       "      <td>427</td>\n",
       "      <td>0.0</td>\n",
       "      <td>69.0</td>\n",
       "      <td>1.0</td>\n",
       "      <td>2</td>\n",
       "      <td>1</td>\n",
       "      <td>1</td>\n",
       "      <td>0</td>\n",
       "      <td>2.846575</td>\n",
       "      <td></td>\n",
       "      <td>20.81165453</td>\n",
       "      <td>2.9</td>\n",
       "      <td>272</td>\n",
       "      <td>202</td>\n",
       "    </tr>\n",
       "  </tbody>\n",
       "</table>\n",
       "</div>"
      ],
      "text/plain": [
       "     ID  tdeath  death   age  female racegrp smokegrp hist.cvd diabetes  \\\n",
       "0   472     427    0.0  69.0     1.0       1        1        1        1   \n",
       "1   713     427    0.0  41.0     0.0       1        2        0        0   \n",
       "2   806     427    0.0  76.0     1.0       2        2        1        1   \n",
       "3  1172     427    0.0  71.0     0.0       1        1        1        0   \n",
       "4  1181     169    1.0  62.0     0.0       1        3        0        1   \n",
       "5  1288     427    0.0  62.0     0.0       2        2        1        0   \n",
       "6  1400     427    0.0  57.0     0.0       3        1                 1   \n",
       "7  1410     427    0.0  73.0     1.0       1        1        1        0   \n",
       "8  1524     419    1.0  70.0     0.0       1      NaN        0        0   \n",
       "9  1655     427    0.0  69.0     1.0       2        1        1        0   \n",
       "\n",
       "    esrdtime undnour          bmi  albumin cholest trigly  \n",
       "0   2.841096       0  28.19476764      3.6     215    162  \n",
       "1   2.213699       0  20.98765432      4.1     102    195  \n",
       "2   0.904110       1  22.82171732      3.7     196    118  \n",
       "3  14.926027           18.9925565      3.6     125         \n",
       "4   2.865753       0  24.62443311      4.0     246    201  \n",
       "5   1.575342       0  30.66394856      4.4     162    277  \n",
       "6   6.810959       0  21.19338239      3.9     103     73  \n",
       "7  14.597260       1  16.23000282      3.0     145    116  \n",
       "8   4.419178       0  26.01532242      3.8     234    168  \n",
       "9   2.846575          20.81165453      2.9     272    202  "
      ]
     },
     "execution_count": 7,
     "metadata": {},
     "output_type": "execute_result"
    }
   ],
   "source": [
    "#start exploring the data\n",
    "df.head(10)"
   ]
  },
  {
   "cell_type": "code",
   "execution_count": 9,
   "metadata": {},
   "outputs": [
    {
     "data": {
      "text/plain": [
       "(1979, 15)"
      ]
     },
     "execution_count": 9,
     "metadata": {},
     "output_type": "execute_result"
    }
   ],
   "source": [
    "df.shape"
   ]
  },
  {
   "cell_type": "code",
   "execution_count": 11,
   "metadata": {
    "scrolled": true
   },
   "outputs": [
    {
     "data": {
      "text/html": [
       "<div>\n",
       "<style scoped>\n",
       "    .dataframe tbody tr th:only-of-type {\n",
       "        vertical-align: middle;\n",
       "    }\n",
       "\n",
       "    .dataframe tbody tr th {\n",
       "        vertical-align: top;\n",
       "    }\n",
       "\n",
       "    .dataframe thead th {\n",
       "        text-align: right;\n",
       "    }\n",
       "</style>\n",
       "<table border=\"1\" class=\"dataframe\">\n",
       "  <thead>\n",
       "    <tr style=\"text-align: right;\">\n",
       "      <th></th>\n",
       "      <th>ID</th>\n",
       "      <th>tdeath</th>\n",
       "      <th>death</th>\n",
       "      <th>age</th>\n",
       "      <th>female</th>\n",
       "      <th>esrdtime</th>\n",
       "      <th>albumin</th>\n",
       "    </tr>\n",
       "  </thead>\n",
       "  <tbody>\n",
       "    <tr>\n",
       "      <th>count</th>\n",
       "      <td>1979.000000</td>\n",
       "      <td>1979.000000</td>\n",
       "      <td>1978.000000</td>\n",
       "      <td>1965.000000</td>\n",
       "      <td>1972.000000</td>\n",
       "      <td>1979.000000</td>\n",
       "      <td>1979.000000</td>\n",
       "    </tr>\n",
       "    <tr>\n",
       "      <th>mean</th>\n",
       "      <td>153900.438605</td>\n",
       "      <td>366.803941</td>\n",
       "      <td>0.247219</td>\n",
       "      <td>60.342494</td>\n",
       "      <td>0.488337</td>\n",
       "      <td>2.978971</td>\n",
       "      <td>3.722132</td>\n",
       "    </tr>\n",
       "    <tr>\n",
       "      <th>std</th>\n",
       "      <td>80086.304508</td>\n",
       "      <td>123.190359</td>\n",
       "      <td>0.431504</td>\n",
       "      <td>15.331246</td>\n",
       "      <td>0.499991</td>\n",
       "      <td>3.519853</td>\n",
       "      <td>0.500591</td>\n",
       "    </tr>\n",
       "    <tr>\n",
       "      <th>min</th>\n",
       "      <td>472.000000</td>\n",
       "      <td>1.000000</td>\n",
       "      <td>0.000000</td>\n",
       "      <td>17.000000</td>\n",
       "      <td>0.000000</td>\n",
       "      <td>0.000000</td>\n",
       "      <td>0.600000</td>\n",
       "    </tr>\n",
       "    <tr>\n",
       "      <th>25%</th>\n",
       "      <td>84506.500000</td>\n",
       "      <td>427.000000</td>\n",
       "      <td>0.000000</td>\n",
       "      <td>50.000000</td>\n",
       "      <td>0.000000</td>\n",
       "      <td>0.564384</td>\n",
       "      <td>3.500000</td>\n",
       "    </tr>\n",
       "    <tr>\n",
       "      <th>50%</th>\n",
       "      <td>169718.000000</td>\n",
       "      <td>427.000000</td>\n",
       "      <td>0.000000</td>\n",
       "      <td>63.000000</td>\n",
       "      <td>0.000000</td>\n",
       "      <td>1.797260</td>\n",
       "      <td>3.800000</td>\n",
       "    </tr>\n",
       "    <tr>\n",
       "      <th>75%</th>\n",
       "      <td>226105.500000</td>\n",
       "      <td>427.000000</td>\n",
       "      <td>0.000000</td>\n",
       "      <td>72.000000</td>\n",
       "      <td>1.000000</td>\n",
       "      <td>4.058904</td>\n",
       "      <td>4.000000</td>\n",
       "    </tr>\n",
       "    <tr>\n",
       "      <th>max</th>\n",
       "      <td>332520.000000</td>\n",
       "      <td>427.000000</td>\n",
       "      <td>1.000000</td>\n",
       "      <td>93.000000</td>\n",
       "      <td>1.000000</td>\n",
       "      <td>20.164384</td>\n",
       "      <td>7.000000</td>\n",
       "    </tr>\n",
       "  </tbody>\n",
       "</table>\n",
       "</div>"
      ],
      "text/plain": [
       "                  ID       tdeath        death          age       female  \\\n",
       "count    1979.000000  1979.000000  1978.000000  1965.000000  1972.000000   \n",
       "mean   153900.438605   366.803941     0.247219    60.342494     0.488337   \n",
       "std     80086.304508   123.190359     0.431504    15.331246     0.499991   \n",
       "min       472.000000     1.000000     0.000000    17.000000     0.000000   \n",
       "25%     84506.500000   427.000000     0.000000    50.000000     0.000000   \n",
       "50%    169718.000000   427.000000     0.000000    63.000000     0.000000   \n",
       "75%    226105.500000   427.000000     0.000000    72.000000     1.000000   \n",
       "max    332520.000000   427.000000     1.000000    93.000000     1.000000   \n",
       "\n",
       "          esrdtime      albumin  \n",
       "count  1979.000000  1979.000000  \n",
       "mean      2.978971     3.722132  \n",
       "std       3.519853     0.500591  \n",
       "min       0.000000     0.600000  \n",
       "25%       0.564384     3.500000  \n",
       "50%       1.797260     3.800000  \n",
       "75%       4.058904     4.000000  \n",
       "max      20.164384     7.000000  "
      ]
     },
     "execution_count": 11,
     "metadata": {},
     "output_type": "execute_result"
    }
   ],
   "source": [
    "#look at statistics of dataframe\n",
    "df.describe()"
   ]
  },
  {
   "cell_type": "code",
   "execution_count": 12,
   "metadata": {},
   "outputs": [
    {
     "data": {
      "text/plain": [
       "array([[<AxesSubplot:title={'center':'ID'}>,\n",
       "        <AxesSubplot:title={'center':'tdeath'}>,\n",
       "        <AxesSubplot:title={'center':'death'}>],\n",
       "       [<AxesSubplot:title={'center':'age'}>,\n",
       "        <AxesSubplot:title={'center':'female'}>,\n",
       "        <AxesSubplot:title={'center':'esrdtime'}>],\n",
       "       [<AxesSubplot:title={'center':'albumin'}>, <AxesSubplot:>,\n",
       "        <AxesSubplot:>]], dtype=object)"
      ]
     },
     "execution_count": 12,
     "metadata": {},
     "output_type": "execute_result"
    },
    {
     "data": {
      "image/png": "[encoded data removed]",
      "text/plain": [
       "<Figure size 432x288 with 9 Axes>"
      ]
     },
     "metadata": {
      "needs_background": "light"
     },
     "output_type": "display_data"
    }
   ],
   "source": [
    "#visualize the data\n",
    "df.hist(bins=50)"
   ]
  },
  {
   "cell_type": "markdown",
   "metadata": {},
   "source": [
    "**IDENTIFYING MISSING DATA**"
   ]
  },
  {
   "cell_type": "code",
   "execution_count": 13,
   "metadata": {},
   "outputs": [
    {
     "data": {
      "text/html": [
       "<div>\n",
       "<style scoped>\n",
       "    .dataframe tbody tr th:only-of-type {\n",
       "        vertical-align: middle;\n",
       "    }\n",
       "\n",
       "    .dataframe tbody tr th {\n",
       "        vertical-align: top;\n",
       "    }\n",
       "\n",
       "    .dataframe thead th {\n",
       "        text-align: right;\n",
       "    }\n",
       "</style>\n",
       "<table border=\"1\" class=\"dataframe\">\n",
       "  <thead>\n",
       "    <tr style=\"text-align: right;\">\n",
       "      <th></th>\n",
       "      <th>ID</th>\n",
       "      <th>tdeath</th>\n",
       "      <th>death</th>\n",
       "      <th>age</th>\n",
       "      <th>female</th>\n",
       "      <th>racegrp</th>\n",
       "      <th>smokegrp</th>\n",
       "      <th>hist.cvd</th>\n",
       "      <th>diabetes</th>\n",
       "      <th>esrdtime</th>\n",
       "      <th>undnour</th>\n",
       "      <th>bmi</th>\n",
       "      <th>albumin</th>\n",
       "      <th>cholest</th>\n",
       "      <th>trigly</th>\n",
       "    </tr>\n",
       "  </thead>\n",
       "  <tbody>\n",
       "    <tr>\n",
       "      <th>0</th>\n",
       "      <td>False</td>\n",
       "      <td>False</td>\n",
       "      <td>False</td>\n",
       "      <td>False</td>\n",
       "      <td>False</td>\n",
       "      <td>False</td>\n",
       "      <td>False</td>\n",
       "      <td>False</td>\n",
       "      <td>False</td>\n",
       "      <td>False</td>\n",
       "      <td>False</td>\n",
       "      <td>False</td>\n",
       "      <td>False</td>\n",
       "      <td>False</td>\n",
       "      <td>False</td>\n",
       "    </tr>\n",
       "    <tr>\n",
       "      <th>1</th>\n",
       "      <td>False</td>\n",
       "      <td>False</td>\n",
       "      <td>False</td>\n",
       "      <td>False</td>\n",
       "      <td>False</td>\n",
       "      <td>False</td>\n",
       "      <td>False</td>\n",
       "      <td>False</td>\n",
       "      <td>False</td>\n",
       "      <td>False</td>\n",
       "      <td>False</td>\n",
       "      <td>False</td>\n",
       "      <td>False</td>\n",
       "      <td>False</td>\n",
       "      <td>False</td>\n",
       "    </tr>\n",
       "    <tr>\n",
       "      <th>2</th>\n",
       "      <td>False</td>\n",
       "      <td>False</td>\n",
       "      <td>False</td>\n",
       "      <td>False</td>\n",
       "      <td>False</td>\n",
       "      <td>False</td>\n",
       "      <td>False</td>\n",
       "      <td>False</td>\n",
       "      <td>False</td>\n",
       "      <td>False</td>\n",
       "      <td>False</td>\n",
       "      <td>False</td>\n",
       "      <td>False</td>\n",
       "      <td>False</td>\n",
       "      <td>False</td>\n",
       "    </tr>\n",
       "    <tr>\n",
       "      <th>3</th>\n",
       "      <td>False</td>\n",
       "      <td>False</td>\n",
       "      <td>False</td>\n",
       "      <td>False</td>\n",
       "      <td>False</td>\n",
       "      <td>False</td>\n",
       "      <td>False</td>\n",
       "      <td>False</td>\n",
       "      <td>False</td>\n",
       "      <td>False</td>\n",
       "      <td>False</td>\n",
       "      <td>False</td>\n",
       "      <td>False</td>\n",
       "      <td>False</td>\n",
       "      <td>False</td>\n",
       "    </tr>\n",
       "    <tr>\n",
       "      <th>4</th>\n",
       "      <td>False</td>\n",
       "      <td>False</td>\n",
       "      <td>False</td>\n",
       "      <td>False</td>\n",
       "      <td>False</td>\n",
       "      <td>False</td>\n",
       "      <td>False</td>\n",
       "      <td>False</td>\n",
       "      <td>False</td>\n",
       "      <td>False</td>\n",
       "      <td>False</td>\n",
       "      <td>False</td>\n",
       "      <td>False</td>\n",
       "      <td>False</td>\n",
       "      <td>False</td>\n",
       "    </tr>\n",
       "  </tbody>\n",
       "</table>\n",
       "</div>"
      ],
      "text/plain": [
       "      ID  tdeath  death    age  female  racegrp  smokegrp  hist.cvd  diabetes  \\\n",
       "0  False   False  False  False   False    False     False     False     False   \n",
       "1  False   False  False  False   False    False     False     False     False   \n",
       "2  False   False  False  False   False    False     False     False     False   \n",
       "3  False   False  False  False   False    False     False     False     False   \n",
       "4  False   False  False  False   False    False     False     False     False   \n",
       "\n",
       "   esrdtime  undnour    bmi  albumin  cholest  trigly  \n",
       "0     False    False  False    False    False   False  \n",
       "1     False    False  False    False    False   False  \n",
       "2     False    False  False    False    False   False  \n",
       "3     False    False  False    False    False   False  \n",
       "4     False    False  False    False    False   False  "
      ]
     },
     "execution_count": 13,
     "metadata": {},
     "output_type": "execute_result"
    }
   ],
   "source": [
    "#identify the amount of missing data in this dataframe\n",
    "df.isnull().head()"
   ]
  },
  {
   "cell_type": "code",
   "execution_count": 14,
   "metadata": {},
   "outputs": [
    {
     "data": {
      "text/plain": [
       "ID           0\n",
       "tdeath       0\n",
       "death        1\n",
       "age         14\n",
       "female       7\n",
       "racegrp      2\n",
       "smokegrp     1\n",
       "hist.cvd     0\n",
       "diabetes     1\n",
       "esrdtime     0\n",
       "undnour      0\n",
       "bmi          0\n",
       "albumin      0\n",
       "cholest      0\n",
       "trigly       0\n",
       "dtype: int64"
      ]
     },
     "execution_count": 14,
     "metadata": {},
     "output_type": "execute_result"
    }
   ],
   "source": [
    "#see how many missing data points for each column\n",
    "df.isnull().sum()"
   ]
  },
  {
   "cell_type": "code",
   "execution_count": 18,
   "metadata": {},
   "outputs": [
    {
     "data": {
      "text/plain": [
       "dtype('float64')"
      ]
     },
     "execution_count": 18,
     "metadata": {},
     "output_type": "execute_result"
    }
   ],
   "source": [
    "#imputation: fill in empty cells in the following columns:\n",
    "#death, age, female, racegrp, smokegrp, diabetes\n",
    "#start by looking at the data types\n",
    "df[\"death\"].dtype"
   ]
  },
  {
   "cell_type": "code",
   "execution_count": 19,
   "metadata": {},
   "outputs": [
    {
     "data": {
      "text/plain": [
       "dtype('float64')"
      ]
     },
     "execution_count": 19,
     "metadata": {},
     "output_type": "execute_result"
    }
   ],
   "source": [
    "df[\"age\"].dtype"
   ]
  },
  {
   "cell_type": "code",
   "execution_count": 20,
   "metadata": {},
   "outputs": [
    {
     "data": {
      "text/plain": [
       "dtype('float64')"
      ]
     },
     "execution_count": 20,
     "metadata": {},
     "output_type": "execute_result"
    }
   ],
   "source": [
    "df[\"female\"].dtype"
   ]
  },
  {
   "cell_type": "code",
   "execution_count": 21,
   "metadata": {},
   "outputs": [
    {
     "data": {
      "text/plain": [
       "dtype('O')"
      ]
     },
     "execution_count": 21,
     "metadata": {},
     "output_type": "execute_result"
    }
   ],
   "source": [
    "df[\"racegrp\"].dtype"
   ]
  },
  {
   "cell_type": "code",
   "execution_count": 22,
   "metadata": {},
   "outputs": [
    {
     "data": {
      "text/plain": [
       "dtype('O')"
      ]
     },
     "execution_count": 22,
     "metadata": {},
     "output_type": "execute_result"
    }
   ],
   "source": [
    "df[\"smokegrp\"].dtype"
   ]
  },
  {
   "cell_type": "code",
   "execution_count": 23,
   "metadata": {},
   "outputs": [
    {
     "data": {
      "text/plain": [
       "dtype('O')"
      ]
     },
     "execution_count": 23,
     "metadata": {},
     "output_type": "execute_result"
    }
   ],
   "source": [
    "df[\"diabetes\"].dtype"
   ]
  },
  {
   "cell_type": "code",
   "execution_count": 25,
   "metadata": {},
   "outputs": [],
   "source": [
    "#imputation for numerical data --> use column mean as replacement \n",
    "df[\"age\"].fillna(df[\"age\"].mean(), inplace = True)"
   ]
  },
  {
   "cell_type": "code",
   "execution_count": 27,
   "metadata": {},
   "outputs": [
    {
     "data": {
      "text/plain": [
       "0"
      ]
     },
     "execution_count": 27,
     "metadata": {},
     "output_type": "execute_result"
    }
   ],
   "source": [
    "df[\"age\"].isnull().sum()"
   ]
  },
  {
   "cell_type": "code",
   "execution_count": 55,
   "metadata": {},
   "outputs": [],
   "source": [
    "#female and death are recorded as numeric, but they are assigned/dummy variables with 0=alive, 1 = dead and 0=male, 1= female, respectively\n",
    "#this technically is categorical, so we will replace the missing values with \"missing\"\n",
    "df[\"female\"].fillna(\"missing\", inplace = True)\n",
    "df[\"death\"].fillna(\"missing\", inplace = True)"
   ]
  },
  {
   "cell_type": "code",
   "execution_count": 29,
   "metadata": {},
   "outputs": [
    {
     "data": {
      "text/plain": [
       "0"
      ]
     },
     "execution_count": 29,
     "metadata": {},
     "output_type": "execute_result"
    }
   ],
   "source": [
    "#check if replacement worked\n",
    "df[\"female\"].isnull().sum()"
   ]
  },
  {
   "cell_type": "code",
   "execution_count": 56,
   "metadata": {},
   "outputs": [
    {
     "data": {
      "text/plain": [
       "0"
      ]
     },
     "execution_count": 56,
     "metadata": {},
     "output_type": "execute_result"
    }
   ],
   "source": [
    "df[\"death\"].isnull().sum()"
   ]
  },
  {
   "cell_type": "code",
   "execution_count": 31,
   "metadata": {},
   "outputs": [],
   "source": [
    "#replace missing values for the last three categorical variables with \"missing\"\n",
    "df[\"racegrp\"].fillna(\"missing\", inplace = True)"
   ]
  },
  {
   "cell_type": "code",
   "execution_count": 32,
   "metadata": {},
   "outputs": [],
   "source": [
    "df[\"smokegrp\"].fillna(\"missing\", inplace = True)"
   ]
  },
  {
   "cell_type": "code",
   "execution_count": 33,
   "metadata": {},
   "outputs": [],
   "source": [
    "df[\"diabetes\"].fillna(\"missing\", inplace = True)"
   ]
  },
  {
   "cell_type": "code",
   "execution_count": null,
   "metadata": {},
   "outputs": [],
   "source": [
    "#check if replacements worked"
   ]
  },
  {
   "cell_type": "code",
   "execution_count": 34,
   "metadata": {},
   "outputs": [
    {
     "data": {
      "text/plain": [
       "0"
      ]
     },
     "execution_count": 34,
     "metadata": {},
     "output_type": "execute_result"
    }
   ],
   "source": [
    "df[\"racegrp\"].isnull().sum()"
   ]
  },
  {
   "cell_type": "code",
   "execution_count": 35,
   "metadata": {},
   "outputs": [
    {
     "data": {
      "text/plain": [
       "0"
      ]
     },
     "execution_count": 35,
     "metadata": {},
     "output_type": "execute_result"
    }
   ],
   "source": [
    "df[\"smokegrp\"].isnull().sum()"
   ]
  },
  {
   "cell_type": "code",
   "execution_count": 36,
   "metadata": {},
   "outputs": [
    {
     "data": {
      "text/plain": [
       "0"
      ]
     },
     "execution_count": 36,
     "metadata": {},
     "output_type": "execute_result"
    }
   ],
   "source": [
    "df[\"diabetes\"].isnull().sum()"
   ]
  },
  {
   "cell_type": "markdown",
   "metadata": {},
   "source": [
    "**ADDRESSING RELATIONSHIPS: CORRELATIONS**"
   ]
  },
  {
   "cell_type": "code",
   "execution_count": 58,
   "metadata": {},
   "outputs": [
    {
     "data": {
      "text/html": [
       "<div>\n",
       "<style scoped>\n",
       "    .dataframe tbody tr th:only-of-type {\n",
       "        vertical-align: middle;\n",
       "    }\n",
       "\n",
       "    .dataframe tbody tr th {\n",
       "        vertical-align: top;\n",
       "    }\n",
       "\n",
       "    .dataframe thead th {\n",
       "        text-align: right;\n",
       "    }\n",
       "</style>\n",
       "<table border=\"1\" class=\"dataframe\">\n",
       "  <thead>\n",
       "    <tr style=\"text-align: right;\">\n",
       "      <th></th>\n",
       "      <th>ID</th>\n",
       "      <th>tdeath</th>\n",
       "      <th>death</th>\n",
       "      <th>age</th>\n",
       "      <th>esrdtime</th>\n",
       "      <th>albumin</th>\n",
       "    </tr>\n",
       "  </thead>\n",
       "  <tbody>\n",
       "    <tr>\n",
       "      <th>ID</th>\n",
       "      <td>1.000000</td>\n",
       "      <td>-0.036978</td>\n",
       "      <td>0.035400</td>\n",
       "      <td>0.117225</td>\n",
       "      <td>-0.427575</td>\n",
       "      <td>-0.167339</td>\n",
       "    </tr>\n",
       "    <tr>\n",
       "      <th>tdeath</th>\n",
       "      <td>-0.036978</td>\n",
       "      <td>1.000000</td>\n",
       "      <td>-0.850152</td>\n",
       "      <td>-0.262318</td>\n",
       "      <td>0.072809</td>\n",
       "      <td>0.218361</td>\n",
       "    </tr>\n",
       "    <tr>\n",
       "      <th>death</th>\n",
       "      <td>0.035400</td>\n",
       "      <td>-0.850152</td>\n",
       "      <td>1.000000</td>\n",
       "      <td>0.276609</td>\n",
       "      <td>-0.084142</td>\n",
       "      <td>-0.190219</td>\n",
       "    </tr>\n",
       "    <tr>\n",
       "      <th>age</th>\n",
       "      <td>0.117225</td>\n",
       "      <td>-0.262318</td>\n",
       "      <td>0.276609</td>\n",
       "      <td>1.000000</td>\n",
       "      <td>-0.230898</td>\n",
       "      <td>-0.128189</td>\n",
       "    </tr>\n",
       "    <tr>\n",
       "      <th>esrdtime</th>\n",
       "      <td>-0.427575</td>\n",
       "      <td>0.072809</td>\n",
       "      <td>-0.084142</td>\n",
       "      <td>-0.230898</td>\n",
       "      <td>1.000000</td>\n",
       "      <td>0.153749</td>\n",
       "    </tr>\n",
       "    <tr>\n",
       "      <th>albumin</th>\n",
       "      <td>-0.167339</td>\n",
       "      <td>0.218361</td>\n",
       "      <td>-0.190219</td>\n",
       "      <td>-0.128189</td>\n",
       "      <td>0.153749</td>\n",
       "      <td>1.000000</td>\n",
       "    </tr>\n",
       "  </tbody>\n",
       "</table>\n",
       "</div>"
      ],
      "text/plain": [
       "                ID    tdeath     death       age  esrdtime   albumin\n",
       "ID        1.000000 -0.036978  0.035400  0.117225 -0.427575 -0.167339\n",
       "tdeath   -0.036978  1.000000 -0.850152 -0.262318  0.072809  0.218361\n",
       "death     0.035400 -0.850152  1.000000  0.276609 -0.084142 -0.190219\n",
       "age       0.117225 -0.262318  0.276609  1.000000 -0.230898 -0.128189\n",
       "esrdtime -0.427575  0.072809 -0.084142 -0.230898  1.000000  0.153749\n",
       "albumin  -0.167339  0.218361 -0.190219 -0.128189  0.153749  1.000000"
      ]
     },
     "execution_count": 58,
     "metadata": {},
     "output_type": "execute_result"
    }
   ],
   "source": [
    "#to determine strength of correlation, we need to look at r values\n",
    "df.corr()"
   ]
  },
  {
   "cell_type": "code",
   "execution_count": 59,
   "metadata": {},
   "outputs": [],
   "source": [
    "#identify high correlations:\n",
    "#tdeath and death\n",
    "#do these two variables show collinearity? how meaningful are they really? \n",
    "#import function to create matrix from dataframe\n",
    "from pandas.plotting import scatter_matrix"
   ]
  },
  {
   "cell_type": "code",
   "execution_count": 63,
   "metadata": {},
   "outputs": [
    {
     "data": {
      "text/plain": [
       "<AxesSubplot:title={'center':'Relationship between Death and tdeath'}, xlabel='tdeath', ylabel='death'>"
      ]
     },
     "execution_count": 63,
     "metadata": {},
     "output_type": "execute_result"
    },
    {
     "data": {
      "image/png": "[encoded data removed]",
      "text/plain": [
       "<Figure size 432x288 with 1 Axes>"
      ]
     },
     "metadata": {
      "needs_background": "light"
     },
     "output_type": "display_data"
    }
   ],
   "source": [
    "#visually look at correlation via scatter plot\n",
    "df.plot.scatter(x=\"tdeath\", y = \"death\", title = \"Relationship between Death and tdeath\")"
   ]
  },
  {
   "cell_type": "code",
   "execution_count": null,
   "metadata": {},
   "outputs": [],
   "source": [
    "#clearly death and tdeath are almost the same, as tdeath is just sequential position in death reported\n",
    "#due to this, we could probably remove tdeath from our data and just keep death, since they are showing the same meaning\n"
   ]
  },
  {
   "cell_type": "markdown",
   "metadata": {},
   "source": [
    "**MEANINGFUL QUESTION**"
   ]
  },
  {
   "cell_type": "code",
   "execution_count": 68,
   "metadata": {},
   "outputs": [
    {
     "data": {
      "text/plain": [
       "<AxesSubplot:title={'center':'Relationship between albumin levels and time until death from ESRD'}, xlabel='albumin', ylabel='esrdtime'>"
      ]
     },
     "execution_count": 68,
     "metadata": {},
     "output_type": "execute_result"
    },
    {
     "data": {
      "image/png": "[encoded data removed]",
      "text/plain": [
       "<Figure size 432x288 with 1 Axes>"
      ]
     },
     "metadata": {
      "needs_background": "light"
     },
     "output_type": "display_data"
    }
   ],
   "source": [
    "#I'm curious about albumin levels in relation to years until death\n",
    "#I'll start by looking at their scatter plot\n",
    "df.plot.scatter(x=\"albumin\", y = \"esrdtime\", title = \"Relationship between albumin levels and time until death from ESRD\")"
   ]
  },
  {
   "cell_type": "code",
   "execution_count": 74,
   "metadata": {},
   "outputs": [
    {
     "data": {
      "text/html": [
       "<div>\n",
       "<style scoped>\n",
       "    .dataframe tbody tr th:only-of-type {\n",
       "        vertical-align: middle;\n",
       "    }\n",
       "\n",
       "    .dataframe tbody tr th {\n",
       "        vertical-align: top;\n",
       "    }\n",
       "\n",
       "    .dataframe thead th {\n",
       "        text-align: right;\n",
       "    }\n",
       "</style>\n",
       "<table border=\"1\" class=\"dataframe\">\n",
       "  <thead>\n",
       "    <tr style=\"text-align: right;\">\n",
       "      <th></th>\n",
       "      <th>albumin</th>\n",
       "      <th>esrdtime</th>\n",
       "    </tr>\n",
       "  </thead>\n",
       "  <tbody>\n",
       "    <tr>\n",
       "      <th>albumin</th>\n",
       "      <td>1.000000</td>\n",
       "      <td>0.153749</td>\n",
       "    </tr>\n",
       "    <tr>\n",
       "      <th>esrdtime</th>\n",
       "      <td>0.153749</td>\n",
       "      <td>1.000000</td>\n",
       "    </tr>\n",
       "  </tbody>\n",
       "</table>\n",
       "</div>"
      ],
      "text/plain": [
       "           albumin  esrdtime\n",
       "albumin   1.000000  0.153749\n",
       "esrdtime  0.153749  1.000000"
      ]
     },
     "execution_count": 74,
     "metadata": {},
     "output_type": "execute_result"
    }
   ],
   "source": [
    "#look at r value\n",
    "# r is .15, which is pretty low, which is why the plot shows they are not strongly correlated\n",
    "df[[\"albumin\", \"esrdtime\"]].corr()"
   ]
  },
  {
   "cell_type": "markdown",
   "metadata": {},
   "source": [
    "**END**"
   ]
  }
 ],
 "metadata": {
  "kernelspec": {
   "display_name": "Python 3",
   "language": "python",
   "name": "python3"
  },
  "language_info": {
   "codemirror_mode": {
    "name": "ipython",
    "version": 3
   },
   "file_extension": ".py",
   "mimetype": "text/x-python",
   "name": "python",
   "nbconvert_exporter": "python",
   "pygments_lexer": "ipython3",
   "version": "3.8.5"
  }
 },
 "nbformat": 4,
 "nbformat_minor": 4
}
