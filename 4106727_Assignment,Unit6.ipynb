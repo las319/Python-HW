{
 "cells": [
  {
   "cell_type": "code",
   "execution_count": 1,
   "metadata": {},
   "outputs": [
    {
     "name": "stdout",
     "output_type": "stream",
     "text": [
      "a\n",
      "aa\n",
      "aaa\n",
      "aah\n",
      "aahed\n",
      "aahing\n",
      "aahs\n",
      "aal\n",
      "aalii\n",
      "aaliis\n",
      "aals\n",
      "aam\n",
      "aani\n",
      "aardvark\n",
      "aardvarks\n",
      "aardwolf\n",
      "aardwolves\n"
     ]
    }
   ],
   "source": [
    "#open txt file\n",
    "file = open(\"words.txt\", 'r')\n",
    "\n",
    "#read opened file\n",
    "file_text = file.read()\n",
    "\n",
    "#print open file to make sure it's correct\n",
    "print(file_text[0:100])"
   ]
  },
  {
   "cell_type": "code",
   "execution_count": 2,
   "metadata": {},
   "outputs": [
    {
     "data": {
      "text/plain": [
       "str"
      ]
     },
     "execution_count": 2,
     "metadata": {},
     "output_type": "execute_result"
    }
   ],
   "source": [
    "#check the file type\n",
    "type(file_text)"
   ]
  },
  {
   "cell_type": "code",
   "execution_count": 3,
   "metadata": {
    "collapsed": true
   },
   "outputs": [
    {
     "data": {
      "text/plain": [
       "['\\n',\n",
       " '\\n',\n",
       " '\\n',\n",
       " '\\n',\n",
       " '\\n',\n",
       " '\\n',\n",
       " '\\n',\n",
       " '\\n',\n",
       " '\\n',\n",
       " '\\n',\n",
       " '\\n',\n",
       " '\\n',\n",
       " '\\n',\n",
       " '\\n',\n",
       " '\\n',\n",
       " '\\n',\n",
       " 'a',\n",
       " 'a',\n",
       " 'a',\n",
       " 'a',\n",
       " 'a',\n",
       " 'a',\n",
       " 'a',\n",
       " 'a',\n",
       " 'a',\n",
       " 'a',\n",
       " 'a',\n",
       " 'a',\n",
       " 'a',\n",
       " 'a',\n",
       " 'a',\n",
       " 'a',\n",
       " 'a',\n",
       " 'a',\n",
       " 'a',\n",
       " 'a',\n",
       " 'a',\n",
       " 'a',\n",
       " 'a',\n",
       " 'a',\n",
       " 'a',\n",
       " 'a',\n",
       " 'a',\n",
       " 'a',\n",
       " 'a',\n",
       " 'a',\n",
       " 'a',\n",
       " 'a',\n",
       " 'a',\n",
       " 'a',\n",
       " 'a',\n",
       " 'a',\n",
       " 'd',\n",
       " 'd',\n",
       " 'd',\n",
       " 'd',\n",
       " 'd',\n",
       " 'e',\n",
       " 'e',\n",
       " 'f',\n",
       " 'g',\n",
       " 'h',\n",
       " 'h',\n",
       " 'h',\n",
       " 'h',\n",
       " 'i',\n",
       " 'i',\n",
       " 'i',\n",
       " 'i',\n",
       " 'i',\n",
       " 'i',\n",
       " 'k',\n",
       " 'k',\n",
       " 'l',\n",
       " 'l',\n",
       " 'l',\n",
       " 'l',\n",
       " 'l',\n",
       " 'l',\n",
       " 'm',\n",
       " 'n',\n",
       " 'n',\n",
       " 'o',\n",
       " 'o',\n",
       " 'r',\n",
       " 'r',\n",
       " 'r',\n",
       " 'r',\n",
       " 'r',\n",
       " 'r',\n",
       " 's',\n",
       " 's',\n",
       " 's',\n",
       " 's',\n",
       " 's',\n",
       " 'v',\n",
       " 'v',\n",
       " 'v',\n",
       " 'w',\n",
       " 'w']"
      ]
     },
     "execution_count": 3,
     "metadata": {},
     "output_type": "execute_result"
    }
   ],
   "source": [
    "#sort\n",
    "sorted(file_text[0:100])"
   ]
  },
  {
   "cell_type": "code",
   "execution_count": 4,
   "metadata": {},
   "outputs": [],
   "source": [
    "#convert file from string to list\n",
    "word_list = file_text.split(sep=\"\\n\")"
   ]
  },
  {
   "cell_type": "code",
   "execution_count": 6,
   "metadata": {},
   "outputs": [
    {
     "data": {
      "text/plain": [
       "list"
      ]
     },
     "execution_count": 6,
     "metadata": {},
     "output_type": "execute_result"
    }
   ],
   "source": [
    "#check to make sure file is a list now\n",
    "type(word_list)"
   ]
  },
  {
   "cell_type": "code",
   "execution_count": 7,
   "metadata": {
    "scrolled": true
   },
   "outputs": [
    {
     "name": "stdout",
     "output_type": "stream",
     "text": [
      "['a', 'aa', 'aaa', 'aah', 'aahed', 'aahing', 'aahs', 'aal', 'aalii', 'aaliis', 'aals', 'aam', 'aani', 'aardvark', 'aardvarks', 'aardwolf', 'aardwolves', 'aargh', 'aaron', 'aaronic', 'aaronical', 'aaronite', 'aaronitic', 'aarrgh', 'aarrghh', 'aaru', 'aas', 'aasvogel', 'aasvogels', 'ab', 'aba', 'ababdeh', 'ababua', 'abac', 'abaca', 'abacay', 'abacas', 'abacate', 'abacaxi', 'abaci', 'abacinate', 'abacination', 'abacisci', 'abaciscus', 'abacist', 'aback', 'abacli', 'abacot', 'abacterial', 'abactinal', 'abactinally', 'abaction', 'abactor', 'abaculi', 'abaculus', 'abacus', 'abacuses', 'abada', 'abaddon', 'abadejo', 'abadengo', 'abadia', 'abadite', 'abaff', 'abaft', 'abay', 'abayah', 'abaisance', 'abaised', 'abaiser', 'abaisse', 'abaissed', 'abaka', 'abakas', 'abalation', 'abalienate', 'abalienated', 'abalienating', 'abalienation', 'abalone', 'abalones', 'abama', 'abamp', 'abampere', 'abamperes', 'abamps', 'aband', 'abandon', 'abandonable', 'abandoned', 'abandonedly', 'abandonee', 'abandoner', 'abandoners', 'abandoning', 'abandonment', 'abandonments', 'abandons', 'abandum', 'abanet']\n"
     ]
    }
   ],
   "source": [
    "#check to make sure file is a list now\n",
    "print(word_list[0:100])"
   ]
  },
  {
   "cell_type": "code",
   "execution_count": 9,
   "metadata": {
    "scrolled": true
   },
   "outputs": [
    {
     "name": "stdout",
     "output_type": "stream",
     "text": [
      "['a', 'aa', 'aaa', 'aah', 'aahed', 'aahing', 'aahs', 'aal', 'aalii', 'aaliis', 'aals', 'aam', 'aani', 'aardvark', 'aardvarks', 'aardwolf', 'aardwolves', 'aargh', 'aaron', 'aaronic', 'aaronical', 'aaronite', 'aaronitic', 'aarrgh', 'aarrghh', 'aaru', 'aas', 'aasvogel', 'aasvogels', 'ab', 'aba', 'ababdeh', 'ababua', 'abac', 'abaca', 'abacay', 'abacas', 'abacate', 'abacaxi', 'abaci', 'abacinate', 'abacination', 'abacisci', 'abaciscus', 'abacist', 'aback', 'abacli', 'abacot', 'abacterial', 'abactinal', 'abactinally', 'abaction', 'abactor', 'abaculi', 'abaculus', 'abacus', 'abacuses', 'abada', 'abaddon', 'abadejo', 'abadengo', 'abadia', 'abadite', 'abaff', 'abaft', 'abay', 'abayah', 'abaisance', 'abaised', 'abaiser', 'abaisse', 'abaissed', 'abaka', 'abakas', 'abalation', 'abalienate', 'abalienated', 'abalienating', 'abalienation', 'abalone', 'abalones', 'abama', 'abamp', 'abampere', 'abamperes', 'abamps', 'aband', 'abandon', 'abandonable', 'abandoned', 'abandonedly', 'abandonee', 'abandoner', 'abandoners', 'abandoning', 'abandonment', 'abandonments', 'abandons', 'abandum', 'abanet']\n"
     ]
    }
   ],
   "source": [
    "#clean the data\n",
    "#lower case\n",
    "for i in range(len(word_list)):\n",
    "    word_list[i] = word_list[i].lower()\n",
    "print(word_list[0:100])"
   ]
  },
  {
   "cell_type": "code",
   "execution_count": 10,
   "metadata": {},
   "outputs": [],
   "source": [
    "#clean the data\n",
    "#remove preceding and trailing spaces and \\n\n",
    "for i in range(len(word_list)):\n",
    "    word_list[i] = word_list[i].strip()"
   ]
  },
  {
   "cell_type": "code",
   "execution_count": 11,
   "metadata": {},
   "outputs": [
    {
     "name": "stdout",
     "output_type": "stream",
     "text": [
      "['a', 'aa', 'aaa', 'aah', 'aahed', 'aahing', 'aahs', 'aal', 'aalii', 'aaliis', 'aals', 'aam', 'aani', 'aardvark', 'aardvarks', 'aardwolf', 'aardwolves', 'aargh', 'aaron', 'aaronic', 'aaronical', 'aaronite', 'aaronitic', 'aarrgh', 'aarrghh', 'aaru', 'aas', 'aasvogel', 'aasvogels', 'ab', 'aba', 'ababdeh', 'ababua', 'abac', 'abaca', 'abacay', 'abacas', 'abacate', 'abacaxi', 'abaci', 'abacinate', 'abacination', 'abacisci', 'abaciscus', 'abacist', 'aback', 'abacli', 'abacot', 'abacterial', 'abactinal', 'abactinally', 'abaction', 'abactor', 'abaculi', 'abaculus', 'abacus', 'abacuses', 'abada', 'abaddon', 'abadejo', 'abadengo', 'abadia', 'abadite', 'abaff', 'abaft', 'abay', 'abayah', 'abaisance', 'abaised', 'abaiser', 'abaisse', 'abaissed', 'abaka', 'abakas', 'abalation', 'abalienate', 'abalienated', 'abalienating', 'abalienation', 'abalone', 'abalones', 'abama', 'abamp', 'abampere', 'abamperes', 'abamps', 'aband', 'abandon', 'abandonable', 'abandoned', 'abandonedly', 'abandonee', 'abandoner', 'abandoners', 'abandoning', 'abandonment', 'abandonments', 'abandons', 'abandum', 'abanet']\n"
     ]
    }
   ],
   "source": [
    "#clean the data\n",
    "#remove duplicates\n",
    "word_list = list(dict.fromkeys(word_list))\n",
    "print(word_list[0:100])"
   ]
  },
  {
   "cell_type": "code",
   "execution_count": 18,
   "metadata": {},
   "outputs": [
    {
     "name": "stdout",
     "output_type": "stream",
     "text": [
      "give a word:python\n",
      "hnopty\n",
      "['h', 'n', 'o', 'p', 't', 'y']\n"
     ]
    }
   ],
   "source": [
    "def word_signature(word):\n",
    "    sorted_word = sorted(word)\n",
    "    word_letters = ''.join(sorted_word)\n",
    "    return word_letters\n",
    "\n",
    "word_input= input(\"give a word:\")\n",
    "result = word_signature(word_input)\n",
    "print(result)\n",
    "print(sorted(result))\n"
   ]
  },
  {
   "cell_type": "code",
   "execution_count": 27,
   "metadata": {},
   "outputs": [
    {
     "name": "stdout",
     "output_type": "stream",
     "text": [
      "phyton\n",
      "It's an anagram match\n",
      "python\n",
      "identical word detected\n",
      "typhon\n",
      "It's an anagram match\n"
     ]
    }
   ],
   "source": [
    "#use loop to find word signature matches in list of words\n",
    "for i in range(len(word_list)):\n",
    "    if sorted(result) == sorted(word_list[i]):\n",
    "        if word_input != word_list[i]:\n",
    "            print(word_list[i])\n",
    "            print(\"It's an anagram match\")\n",
    "        else:\n",
    "            print(word_list[i])\n",
    "            print(\"identical word detected\")"
   ]
  },
  {
   "cell_type": "markdown",
   "metadata": {},
   "source": [
    "**END**"
   ]
  }
 ],
 "metadata": {
  "kernelspec": {
   "display_name": "Python 3",
   "language": "python",
   "name": "python3"
  },
  "language_info": {
   "codemirror_mode": {
    "name": "ipython",
    "version": 3
   },
   "file_extension": ".py",
   "mimetype": "text/x-python",
   "name": "python",
   "nbconvert_exporter": "python",
   "pygments_lexer": "ipython3",
   "version": "3.8.5"
  }
 },
 "nbformat": 4,
 "nbformat_minor": 4
}
