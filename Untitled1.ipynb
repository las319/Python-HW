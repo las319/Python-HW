{
 "cells": [
  {
   "cell_type": "code",
   "execution_count": 1,
   "metadata": {},
   "outputs": [
    {
     "name": "stdout",
     "output_type": "stream",
     "text": [
      "What is your favorite book? afds\n",
      "Who is the author of afds? afds\n"
     ]
    }
   ],
   "source": [
    "book = input(\"What is your favorite book? \")\n",
    "author = input(\"Who is the author of \"+book+\"? \")\n"
   ]
  },
  {
   "cell_type": "code",
   "execution_count": 14,
   "metadata": {},
   "outputs": [
    {
     "name": "stdout",
     "output_type": "stream",
     "text": [
      "What is one of your favorite books? twilight\n",
      "Who is the author of twilight? stephanie\n",
      "What is one of your favorite books? HP\n",
      "Who is the author of HP? JK\n",
      "What is one of your favorite books? MH\n",
      "Who is the author of MH? rupi\n",
      "What is one of your favorite books? golden\n",
      "Who is the author of golden? lily\n",
      "What is one of your favorite books? bible\n",
      "Who is the author of bible? jesus\n",
      "{'twilight': 'stephanie', 'HP': 'JK', 'MH': 'rupi', 'golden': 'lily', 'bible': 'jesus'}\n"
     ]
    }
   ],
   "source": [
    "favorite_books = {}\n",
    "for x in range(5):\n",
    "    book_key =input(\"What is one of your favorite books? \")\n",
    "    author_value = input(\"Who is the author of \"+ book_key +\"? \")\n",
    "    favorite_books[book_key] = author_value\n",
    "print(favorite_books)"
   ]
  },
  {
   "cell_type": "code",
   "execution_count": 15,
   "metadata": {},
   "outputs": [
    {
     "name": "stdout",
     "output_type": "stream",
     "text": [
      "A list of my favorite books, a.k.a. books I can recommend to others!\n",
      "twilight by stephanie\n",
      "HP by JK\n",
      "MH by rupi\n",
      "golden by lily\n",
      "bible by jesus\n"
     ]
    }
   ],
   "source": [
    "print(\"A list of my favorite books, a.k.a. books I can recommend to others!\")\n",
    "\n",
    "for book_key, author_value in favorite_books.items():\n",
    "    print(book_key + \" by \" + author_value)"
   ]
  }
 ],
 "metadata": {
  "kernelspec": {
   "display_name": "Python 3",
   "language": "python",
   "name": "python3"
  },
  "language_info": {
   "codemirror_mode": {
    "name": "ipython",
    "version": 3
   },
   "file_extension": ".py",
   "mimetype": "text/x-python",
   "name": "python",
   "nbconvert_exporter": "python",
   "pygments_lexer": "ipython3",
   "version": "3.8.5"
  }
 },
 "nbformat": 4,
 "nbformat_minor": 4
}
